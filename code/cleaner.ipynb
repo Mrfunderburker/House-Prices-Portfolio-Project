{
 "cells": [
  {
   "cell_type": "markdown",
   "metadata": {},
   "source": [
    "#    Data cleaning, wrangling & pre-processing "
   ]
  },
  {
   "cell_type": "code",
   "execution_count": 1,
   "metadata": {},
   "outputs": [],
   "source": [
    "import numpy as np\n",
    "import pandas as pd\n",
    "import matplotlib.pyplot as plt\n",
    "import seaborn as sns\n",
    "from sklearn.preprocessing import StandardScaler"
   ]
  },
  {
   "cell_type": "code",
   "execution_count": 2,
   "metadata": {},
   "outputs": [],
   "source": [
    "df = pd.read_csv(\"/Users/sa10/Downloads/house-prices-advanced-regression-techniques/House-Prices-Portfolio-Project/data/train.csv\")"
   ]
  },
  {
   "cell_type": "code",
   "execution_count": 3,
   "metadata": {},
   "outputs": [],
   "source": [
    "cols_to_drop = [\n",
    "    'GarageYrBlt', 'MasVnrArea', 'Fireplaces', 'BsmtFinSF1', 'LotFrontage',\n",
    "    'WoodDeckSF', '2ndFlrSF', 'OpenPorchSF', 'HalfBath', 'LotArea', 'BsmtFullBath',\n",
    "    'BsmtUnfSF', 'BedroomAbvGr', 'ScreenPorch', 'PoolArea', 'MoSold', '3SsnPorch',\n",
    "    'BsmtFinSF2', 'BsmtHalfBath', 'MiscVal', 'Id', 'LowQualFinSF', 'YrSold',\n",
    "    'OverallCond', 'MSSubClass', 'EnclosedPorch', 'KitchenAbvGr',\n",
    "    'HouseStyle', 'Fence', 'RoofMatl', 'ExterCond', 'Functional', 'Exterior2nd',\n",
    "    'Exterior1st', 'BsmtCond', 'Condition1', 'Alley', 'BsmtFinType2', 'LandSlope',\n",
    "    'Street', 'MasVnrType', 'LandContour', 'Condition2', 'Utilities', 'SaleType',\n",
    "    'MiscFeature', 'LotConfig', 'BldgType', 'FireplaceQu', 'BsmtFinType1', 'Heating',\n",
    "    'PoolQC', 'MSZoning', 'LotShape', 'BsmtExposure', 'HeatingQC', 'GarageType',\n",
    "    'GarageFinish', 'KitchenQual', 'BsmtQual', 'ExterQual'\n",
    "]\n",
    "\n",
    "# drop unwanted columns\n",
    "new_data = df.drop(columns=cols_to_drop)\n",
    "\n",
    "# drop rows with any missing values\n",
    "new_data = new_data.dropna()"
   ]
  },
  {
   "cell_type": "code",
   "execution_count": null,
   "metadata": {},
   "outputs": [
    {
     "name": "stdout",
     "output_type": "stream",
     "text": [
      "<class 'pandas.core.frame.DataFrame'>\n",
      "Index: 1378 entries, 0 to 1459\n",
      "Data columns (total 65 columns):\n",
      " #   Column                 Non-Null Count  Dtype  \n",
      "---  ------                 --------------  -----  \n",
      " 0   OverallQual            1378 non-null   float64\n",
      " 1   YearBuilt              1378 non-null   float64\n",
      " 2   YearRemodAdd           1378 non-null   float64\n",
      " 3   TotalBsmtSF            1378 non-null   float64\n",
      " 4   1stFlrSF               1378 non-null   float64\n",
      " 5   GrLivArea              1378 non-null   float64\n",
      " 6   FullBath               1378 non-null   float64\n",
      " 7   TotRmsAbvGrd           1378 non-null   float64\n",
      " 8   GarageCars             1378 non-null   float64\n",
      " 9   GarageArea             1378 non-null   float64\n",
      " 10  SalePrice              1378 non-null   int64  \n",
      " 11  Neighborhood_Blueste   1378 non-null   int64  \n",
      " 12  Neighborhood_BrDale    1378 non-null   int64  \n",
      " 13  Neighborhood_BrkSide   1378 non-null   int64  \n",
      " 14  Neighborhood_ClearCr   1378 non-null   int64  \n",
      " 15  Neighborhood_CollgCr   1378 non-null   int64  \n",
      " 16  Neighborhood_Crawfor   1378 non-null   int64  \n",
      " 17  Neighborhood_Edwards   1378 non-null   int64  \n",
      " 18  Neighborhood_Gilbert   1378 non-null   int64  \n",
      " 19  Neighborhood_IDOTRR    1378 non-null   int64  \n",
      " 20  Neighborhood_MeadowV   1378 non-null   int64  \n",
      " 21  Neighborhood_Mitchel   1378 non-null   int64  \n",
      " 22  Neighborhood_NAmes     1378 non-null   int64  \n",
      " 23  Neighborhood_NPkVill   1378 non-null   int64  \n",
      " 24  Neighborhood_NWAmes    1378 non-null   int64  \n",
      " 25  Neighborhood_NoRidge   1378 non-null   int64  \n",
      " 26  Neighborhood_NridgHt   1378 non-null   int64  \n",
      " 27  Neighborhood_OldTown   1378 non-null   int64  \n",
      " 28  Neighborhood_SWISU     1378 non-null   int64  \n",
      " 29  Neighborhood_Sawyer    1378 non-null   int64  \n",
      " 30  Neighborhood_SawyerW   1378 non-null   int64  \n",
      " 31  Neighborhood_Somerst   1378 non-null   int64  \n",
      " 32  Neighborhood_StoneBr   1378 non-null   int64  \n",
      " 33  Neighborhood_Timber    1378 non-null   int64  \n",
      " 34  Neighborhood_Veenker   1378 non-null   int64  \n",
      " 35  RoofStyle_Gable        1378 non-null   int64  \n",
      " 36  RoofStyle_Gambrel      1378 non-null   int64  \n",
      " 37  RoofStyle_Hip          1378 non-null   int64  \n",
      " 38  RoofStyle_Mansard      1378 non-null   int64  \n",
      " 39  RoofStyle_Shed         1378 non-null   int64  \n",
      " 40  Foundation_CBlock      1378 non-null   int64  \n",
      " 41  Foundation_PConc       1378 non-null   int64  \n",
      " 42  Foundation_Slab        1378 non-null   int64  \n",
      " 43  Foundation_Stone       1378 non-null   int64  \n",
      " 44  Foundation_Wood        1378 non-null   int64  \n",
      " 45  CentralAir_Y           1378 non-null   int64  \n",
      " 46  Electrical_FuseF       1378 non-null   int64  \n",
      " 47  Electrical_FuseP       1378 non-null   int64  \n",
      " 48  Electrical_Mix         1378 non-null   int64  \n",
      " 49  Electrical_SBrkr       1378 non-null   int64  \n",
      " 50  GarageQual_Fa          1378 non-null   int64  \n",
      " 51  GarageQual_Gd          1378 non-null   int64  \n",
      " 52  GarageQual_Po          1378 non-null   int64  \n",
      " 53  GarageQual_TA          1378 non-null   int64  \n",
      " 54  GarageCond_Fa          1378 non-null   int64  \n",
      " 55  GarageCond_Gd          1378 non-null   int64  \n",
      " 56  GarageCond_Po          1378 non-null   int64  \n",
      " 57  GarageCond_TA          1378 non-null   int64  \n",
      " 58  PavedDrive_P           1378 non-null   int64  \n",
      " 59  PavedDrive_Y           1378 non-null   int64  \n",
      " 60  SaleCondition_AdjLand  1378 non-null   int64  \n",
      " 61  SaleCondition_Alloca   1378 non-null   int64  \n",
      " 62  SaleCondition_Family   1378 non-null   int64  \n",
      " 63  SaleCondition_Normal   1378 non-null   int64  \n",
      " 64  SaleCondition_Partial  1378 non-null   int64  \n",
      "dtypes: float64(10), int64(55)\n",
      "memory usage: 710.5 KB\n",
      "None\n"
     ]
    }
   ],
   "source": [
    "# hot encode categorical columns\n",
    "df_encoded = pd.get_dummies(new_data, drop_first=True)\n",
    "\n",
    "# scale numeric features\n",
    "scaler = StandardScaler()\n",
    "numeric_cols = df_encoded.select_dtypes(include='number').columns.drop('SalePrice')\n",
    "df_encoded[numeric_cols] = scaler.fit_transform(df_encoded[numeric_cols])\n",
    "\n",
    "# convert bool columns to integers \n",
    "bool_cols = df_encoded.select_dtypes(include='bool').columns\n",
    "df_encoded[bool_cols] = df_encoded[bool_cols].astype(int)\n",
    "df_encoded\n",
    "print(df_encoded.info())"
   ]
  },
  {
   "cell_type": "code",
   "execution_count": 5,
   "metadata": {},
   "outputs": [],
   "source": [
    "df_encoded.to_csv(\"new_df.csv\")"
   ]
  }
 ],
 "metadata": {
  "kernelspec": {
   "display_name": "base",
   "language": "python",
   "name": "python3"
  },
  "language_info": {
   "codemirror_mode": {
    "name": "ipython",
    "version": 3
   },
   "file_extension": ".py",
   "mimetype": "text/x-python",
   "name": "python",
   "nbconvert_exporter": "python",
   "pygments_lexer": "ipython3",
   "version": "3.12.4"
  }
 },
 "nbformat": 4,
 "nbformat_minor": 2
}
